{
 "cells": [
  {
   "cell_type": "code",
   "execution_count": 3,
   "metadata": {},
   "outputs": [
    {
     "name": "stdout",
     "output_type": "stream",
     "text": [
      "Before typecasting\n",
      "<type 'int'>\n",
      "after typecasting\n",
      "<type 'str'>\n"
     ]
    }
   ],
   "source": [
    "#code to convert integer to string\n",
    "i=20\n",
    "print 'Before typecasting'\n",
    "print type(i)\n",
    "print\"after typecasting\"\n",
    "print type(str(i))\n"
   ]
  },
  {
   "cell_type": "raw",
   "metadata": {},
   "source": []
  },
  {
   "cell_type": "code",
   "execution_count": 11,
   "metadata": {},
   "outputs": [
    {
     "name": "stdout",
     "output_type": "stream",
     "text": [
      "Age of MR.RObbin is 33 years\n",
      "Age of Mr.RObbin is 33 years\n"
     ]
    }
   ],
   "source": [
    "#placeholder \n",
    "age=33\n",
    "print \"Age of MR.RObbin is %s years\"%(age)\n",
    "#concetation\n",
    "print \"Age of Mr.RObbin is \"+str(age)+' years'"
   ]
  },
  {
   "cell_type": "code",
   "execution_count": 16,
   "metadata": {},
   "outputs": [
    {
     "name": "stdout",
     "output_type": "stream",
     "text": [
      "Enter the number0\n",
      "Aryabhatta\n"
     ]
    }
   ],
   "source": [
    "#conditional statement\n",
    "\n",
    "num=int(raw_input(\"Enter the number\"))\n",
    "if num>0:\n",
    "    print \"positive\"\n",
    "elif num<0:\n",
    "    print \"negative\"\n",
    "else:\n",
    "        print \"Aryabhatta\""
   ]
  },
  {
   "cell_type": "code",
   "execution_count": null,
   "metadata": {},
   "outputs": [],
   "source": []
  },
  {
   "cell_type": "code",
   "execution_count": null,
   "metadata": {},
   "outputs": [],
   "source": []
  }
 ],
 "metadata": {
  "kernelspec": {
   "display_name": "Python 2",
   "language": "python",
   "name": "python2"
  },
  "language_info": {
   "codemirror_mode": {
    "name": "ipython",
    "version": 2
   },
   "file_extension": ".py",
   "mimetype": "text/x-python",
   "name": "python",
   "nbconvert_exporter": "python",
   "pygments_lexer": "ipython2",
   "version": "2.7.13"
  }
 },
 "nbformat": 4,
 "nbformat_minor": 2
}
