{
 "cells": [
  {
   "cell_type": "code",
   "execution_count": 6,
   "metadata": {},
   "outputs": [
    {
     "data": {
      "text/plain": [
       "1.8333333333333339"
      ]
     },
     "execution_count": 6,
     "metadata": {},
     "output_type": "execute_result"
    }
   ],
   "source": [
    "#Calculate the sum of squares (SS) of the following set of values using the standard formula for the sum of squares.\n",
    "#X = [2.6, 1.9, 3.7, 2.5, 3.1, 2.8]\n",
    "import numpy as np\n",
    "x = [2.6, 1.9, 3.7, 2.5, 3.1, 2.8]\n",
    "y=sum(x)\n",
    "p=y/6\n",
    "\n",
    "array=np.array(x)\n",
    "z=array -p\n",
    "sum(z*z)\n"
   ]
  },
  {
   "cell_type": "markdown",
   "metadata": {},
   "source": []
  }
 ],
 "metadata": {
  "kernelspec": {
   "display_name": "Python 2",
   "language": "python",
   "name": "python2"
  },
  "language_info": {
   "codemirror_mode": {
    "name": "ipython",
    "version": 2
   },
   "file_extension": ".py",
   "mimetype": "text/x-python",
   "name": "python",
   "nbconvert_exporter": "python",
   "pygments_lexer": "ipython2",
   "version": "2.7.13"
  }
 },
 "nbformat": 4,
 "nbformat_minor": 2
}
