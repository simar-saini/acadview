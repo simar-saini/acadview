{
 "cells": [
  {
   "cell_type": "code",
   "execution_count": 15,
   "metadata": {},
   "outputs": [
    {
     "name": "stdout",
     "output_type": "stream",
     "text": [
      "[[ 6  6]\n",
      " [11  7]]\n"
     ]
    }
   ],
   "source": [
    "#subtracting in matrix\n",
    "import numpy as np\n",
    "a=[[4,3],\n",
    "  [6,9]]\n",
    "b=[[-2,9],\n",
    "  [-5,2]]\n",
    "result=np.absolute(np.array(a)- np.array(b))\n",
    "print result"
   ]
  },
  {
   "cell_type": "code",
   "execution_count": 49,
   "metadata": {},
   "outputs": [
    {
     "name": "stdout",
     "output_type": "stream",
     "text": [
      "[[ 1. ]\n",
      " [ 3.5]\n",
      " [ 2. ]\n",
      " [ 0.5]]\n"
     ]
    }
   ],
   "source": [
    "#multiplication in matrix\n",
    "import numpy as np\n",
    "\n",
    "n=np.array([[2],\n",
    "   [7],\n",
    "   [4],\n",
    "   [1]])\n",
    "m=(1/2)*np.array(n)\n",
    "mn=n*float(1.0/2)\n",
    "print mn"
   ]
  },
  {
   "cell_type": "code",
   "execution_count": 51,
   "metadata": {},
   "outputs": [
    {
     "name": "stdout",
     "output_type": "stream",
     "text": [
      "[[8 1 4 2]]\n",
      "transpose\n",
      "[[1 2 4 5]\n",
      " [3 4 5 8]]\n"
     ]
    }
   ],
   "source": [
    "#transpose of a matrix\n",
    "\n",
    "import numpy as np \n",
    "ma=[[8],\n",
    "    [1],\n",
    "    [4],[2]]\n",
    "print np.transpose(ma)\n",
    "#another example\n",
    "print 'transpose'\n",
    "n=[[1,3],\n",
    "   [2,4],\n",
    "   [4,5],\n",
    "   [5,8]]\n",
    "print np.transpose(n)"
   ]
  },
  {
   "cell_type": "code",
   "execution_count": 58,
   "metadata": {},
   "outputs": [
    {
     "name": "stdout",
     "output_type": "stream",
     "text": [
      "[[4]]\n"
     ]
    }
   ],
   "source": [
    "#multiplication of matrix with transpose\n",
    "import numpy as np\n",
    "a=[[1],\n",
    "   [3],\n",
    "   [-1]]\n",
    "b=[[2],\n",
    "   [2],\n",
    "   [4]]\n",
    "\n",
    "m=np.transpose(a)\n",
    "print np.matmul(m,b)"
   ]
  },
  {
   "cell_type": "code",
   "execution_count": null,
   "metadata": {},
   "outputs": [],
   "source": []
  }
 ],
 "metadata": {
  "kernelspec": {
   "display_name": "Python 2",
   "language": "python",
   "name": "python2"
  },
  "language_info": {
   "codemirror_mode": {
    "name": "ipython",
    "version": 2
   },
   "file_extension": ".py",
   "mimetype": "text/x-python",
   "name": "python",
   "nbconvert_exporter": "python",
   "pygments_lexer": "ipython2",
   "version": "2.7.13"
  }
 },
 "nbformat": 4,
 "nbformat_minor": 2
}
